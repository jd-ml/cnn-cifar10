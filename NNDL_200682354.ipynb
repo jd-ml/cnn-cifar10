{
  "cells": [
    {
      "cell_type": "markdown",
      "metadata": {
        "id": "jGOu5dx3Z7az"
      },
      "source": [
        "**Deep Learning and Neural Networks Coursework**\n",
        "\n",
        "---\n",
        "\n"
      ]
    },
    {
      "cell_type": "markdown",
      "metadata": {
        "id": "251wQtRGWAWn"
      },
      "source": [
        "**Imports**\n",
        "\n",
        "---\n",
        "\n",
        "* Package imports for implementation of CNN for CIFAR10 dataset, including dataloading package *torchvision*"
      ]
    },
    {
      "cell_type": "code",
      "execution_count": 1,
      "metadata": {
        "id": "AMaCg2c-rawb",
        "colab": {
          "base_uri": "https://localhost:8080/"
        },
        "outputId": "a56cf78d-5f7c-4076-f4f3-a5f204c3f42a"
      },
      "outputs": [
        {
          "output_type": "stream",
          "name": "stdout",
          "text": [
            "cuda:0\n"
          ]
        }
      ],
      "source": [
        "import torch\n",
        "import torch.nn as nn\n",
        "import torch.nn.functional as F\n",
        "import torch.optim as optim\n",
        "import torchvision\n",
        "import torchvision.transforms as transforms\n",
        "import matplotlib.pyplot as plt\n",
        "import numpy as np\n",
        "\n",
        "device = torch.device('cuda:0' if torch.cuda.is_available() else 'cpu')\n",
        "torch.manual_seed(0)\n",
        "\n",
        "print(device)"
      ]
    },
    {
      "cell_type": "markdown",
      "metadata": {
        "id": "Be07KMHKWy3U"
      },
      "source": [
        "**Normalization**\n",
        "\n",
        "---\n",
        "\n",
        "* Transformation of torchvision datasets from [0,1] range to [-1,1] (normalized range)\n",
        "\n",
        "* batch size default is 32, but stuck with 64 as a batch size for the majority of the model training\n"
      ]
    },
    {
      "cell_type": "code",
      "execution_count": 2,
      "metadata": {
        "id": "YrRfgeN2xseH"
      },
      "outputs": [],
      "source": [
        "def get_datasets(batch_size = 32):\n",
        "    # Define transformations for data augmentation\n",
        "    augmentations = transforms.Compose([\n",
        "        transforms.RandomHorizontalFlip(),\n",
        "        transforms.ColorJitter(hue=.09, saturation=.09),\n",
        "        transforms.RandomResizedCrop(size=(32, 32), antialias=True, scale=(0.5, 1.0), ratio=(0.75, 1.3333333333333333)),\n",
        "        transforms.RandomRotation(5),\n",
        "        transforms.ToTensor(),\n",
        "        transforms.Normalize(mean=[0.5, 0.5, 0.5], std=[0.5, 0.5, 0.5])\n",
        "    ])\n",
        "\n",
        "    # Define transformations for testing (without augmentation)\n",
        "    transform = transforms.Compose([\n",
        "        transforms.ToTensor(),\n",
        "        transforms.Normalize(mean=[0.5, 0.5, 0.5], std=[0.5, 0.5, 0.5])\n",
        "    ])\n",
        "\n",
        "    trainset = torchvision.datasets.CIFAR10(\n",
        "        root='./data',\n",
        "        train=True,\n",
        "        download=True,\n",
        "        transform=augmentations)\n",
        "\n",
        "    trainloader = torch.utils.data.DataLoader(\n",
        "        trainset,\n",
        "        batch_size=batch_size,\n",
        "        shuffle=True,\n",
        "        num_workers=2)\n",
        "\n",
        "    testset = torchvision.datasets.CIFAR10(\n",
        "        root='./data',\n",
        "        train=False,\n",
        "        download=True,\n",
        "        transform=transform)\n",
        "\n",
        "    testloader = torch.utils.data.DataLoader(\n",
        "        testset,\n",
        "        batch_size=batch_size,\n",
        "        shuffle=False,\n",
        "        num_workers=2)\n",
        "\n",
        "    classes = ('plane', 'car', 'bird', 'cat', 'deer',\n",
        "              'dog', 'frog', 'horse', 'ship', 'truck')\n",
        "\n",
        "    return trainset, trainloader, testset, testloader, classes"
      ]
    },
    {
      "cell_type": "code",
      "source": [
        "trainset, trainloader, testset, testloader, classes = get_datasets(batch_size=64)"
      ],
      "metadata": {
        "colab": {
          "base_uri": "https://localhost:8080/"
        },
        "id": "7O_DIxT9bk2k",
        "outputId": "6751ffbf-b2eb-4fc5-e8ce-8893c78f95f0"
      },
      "execution_count": 7,
      "outputs": [
        {
          "output_type": "stream",
          "name": "stdout",
          "text": [
            "Downloading https://www.cs.toronto.edu/~kriz/cifar-10-python.tar.gz to ./data/cifar-10-python.tar.gz\n"
          ]
        },
        {
          "output_type": "stream",
          "name": "stderr",
          "text": [
            "100%|██████████| 170498071/170498071 [00:03<00:00, 48947069.03it/s]\n"
          ]
        },
        {
          "output_type": "stream",
          "name": "stdout",
          "text": [
            "Extracting ./data/cifar-10-python.tar.gz to ./data\n",
            "Files already downloaded and verified\n"
          ]
        }
      ]
    },
    {
      "cell_type": "markdown",
      "metadata": {
        "id": "8pDdhsNwXYzB"
      },
      "source": [
        "**Definition of CNN**\n",
        "\n",
        "\n",
        "---\n",
        "\n",
        "* used He initialization for weights to alleviate vanishing gradient problem when it comes to ReLU"
      ]
    },
    {
      "cell_type": "code",
      "execution_count": 3,
      "metadata": {
        "id": "hW-eva_Rx-y4"
      },
      "outputs": [],
      "source": [
        "class Net(nn.Module):\n",
        "    def __init__(self):\n",
        "        super(Net, self).__init__()\n",
        "\n",
        "        # Block 1\n",
        "        self.conv1 = nn.Conv2d(3, 16, kernel_size=5, stride=1, padding=2)\n",
        "        self.bn1 = nn.BatchNorm2d(16)\n",
        "        self.act1 = nn.ReLU(inplace=True)\n",
        "        self.avgpool1 = nn.AvgPool2d(kernel_size=2, stride=2)\n",
        "\n",
        "        # Block 2\n",
        "        self.conv2 = nn.Conv2d(16, 32, kernel_size=5, stride=1, padding=2)\n",
        "        self.bn2 = nn.BatchNorm2d(32)\n",
        "        self.act2 = nn.ReLU(inplace=True)\n",
        "        self.avgpool2 = nn.AvgPool2d(kernel_size=2, stride=2)\n",
        "\n",
        "        # Fully connected layers\n",
        "        self.fc1 = nn.Linear(2048, 4096)\n",
        "        self.fc2 = nn.Linear(4096, 4096)\n",
        "        self.fc3 = nn.Linear(4096, 10)\n",
        "\n",
        "        # Weight initialization\n",
        "        nn.init.kaiming_normal_(self.fc1.weight, mode='fan_in', nonlinearity='relu')\n",
        "        nn.init.zeros_(self.fc1.bias)\n",
        "\n",
        "    def forward(self, x):\n",
        "\n",
        "        x = self.avgpool1(self.act1(self.bn1(self.conv1(x))))\n",
        "        x = self.avgpool2(self.act2(self.bn2(self.conv2(x))))\n",
        "        x = torch.flatten(x, 1)  # flatten all dimensions except batch\n",
        "        x = F.relu(self.fc1(x))\n",
        "        x = F.relu(self.fc2(x))\n",
        "        x = self.fc3(x)\n",
        "\n",
        "        return x\n",
        "\n",
        "net = Net()"
      ]
    },
    {
      "cell_type": "markdown",
      "metadata": {
        "id": "FdZu-NTWXhkC"
      },
      "source": [
        "**Definition of Loss Function and Optimizer**\n",
        "\n",
        "---\n"
      ]
    },
    {
      "cell_type": "code",
      "execution_count": 4,
      "metadata": {
        "id": "rrCuFr9kyC4u"
      },
      "outputs": [],
      "source": [
        "# loss function\n",
        "criterion = nn.CrossEntropyLoss()\n",
        "\n",
        "# optimizer\n",
        "optimizer = optim.Adam(net.parameters(), lr=0.001)"
      ]
    },
    {
      "cell_type": "markdown",
      "metadata": {
        "id": "fvr8QVYRXzbS"
      },
      "source": [
        "**CNN Training**\n",
        "\n",
        "---\n",
        "\n"
      ]
    },
    {
      "cell_type": "code",
      "source": [
        "# evaluates current performance of model on test dataset\n",
        "def evaluate_test(net):\n",
        "    correct = 0\n",
        "    total = 0\n",
        "    with torch.no_grad():\n",
        "        for data in testloader:\n",
        "            inputs, labels = data[0].to(device), data[1].to(device)\n",
        "            outputs = net(inputs)\n",
        "            _, predicted = torch.max(outputs.data, 1) # highest energy (class)\n",
        "            total += labels.size(0)\n",
        "            correct += (predicted == labels).sum().item()\n",
        "\n",
        "    print(f'Accuracy of the network on the 10000 test images: {100 * correct // total} %')\n",
        "    return correct / total\n",
        "\n",
        "# evaluates current performance of model on training dataset\n",
        "def evaluate_train(net):\n",
        "    correct = 0\n",
        "    total = 0\n",
        "    with torch.no_grad():\n",
        "        for data in trainloader:\n",
        "            inputs, labels = data[0].to(device), data[1].to(device)\n",
        "            outputs = net(inputs)\n",
        "            _, predicted = torch.max(outputs.data, 1) # highest energy (class)\n",
        "            total += labels.size(0)\n",
        "            correct += (predicted == labels).sum().item()\n",
        "\n",
        "    print(f'Accuracy of the network on the training images: {100 * correct // total} %')\n",
        "    return correct / total"
      ],
      "metadata": {
        "id": "sMIJZ9RSD0Zl"
      },
      "execution_count": 9,
      "outputs": []
    },
    {
      "cell_type": "code",
      "source": [
        "# primary training function for model\n",
        "def train_network(net, trainloader, epoch=None, max_epoch=10):\n",
        "\n",
        "    # declaration of evaluation metrics\n",
        "    eval = {\n",
        "        \"accuracy\": [],\n",
        "        \"validation_accuracy\": [],\n",
        "        \"loss\": [],\n",
        "        \"epoch\": []\n",
        "    }\n",
        "\n",
        "    if epoch is None:\n",
        "      epoch = 0\n",
        "    # else we are continuing to train from epoch > 0\n",
        "\n",
        "    while True:  # loop over the dataset multiple times\n",
        "        running_loss = 0.0\n",
        "        info_length = 512\n",
        "        for i, data in enumerate(trainloader, 0):\n",
        "            # get the inputs; data is a list of [inputs, labels]\n",
        "            inputs, labels = data[0].to(device), data[1].to(device)\n",
        "            # zero the parameter gradients\n",
        "            optimizer.zero_grad()\n",
        "            # forward + backward + optimize\n",
        "            outputs = net(inputs)\n",
        "            loss = criterion(outputs, labels)\n",
        "            loss.backward()\n",
        "            optimizer.step()\n",
        "            # print loss against epoch\n",
        "            running_loss += loss.item()\n",
        "            if i % info_length == (info_length-1):\n",
        "                print(f'[{epoch + 1}, {i + 1:5d}] loss: {running_loss / info_length:.3f}')\n",
        "                epoch_loss = running_loss\n",
        "                running_loss = 0.0\n",
        "\n",
        "        # per epoch, print metrics\n",
        "        print(f\"epoch {epoch} finished\")\n",
        "        eval[\"accuracy\"].append(evaluate_test(net))\n",
        "        eval[\"validation_accuracy\"].append(evaluate_train(net))\n",
        "        eval[\"loss\"].append(epoch_loss/info_length)\n",
        "        eval[\"epoch\"].append(epoch)\n",
        "        epoch += 1\n",
        "\n",
        "        if epoch > max_epoch:\n",
        "          break\n",
        "\n",
        "    return eval"
      ],
      "metadata": {
        "id": "PBSyVXCMDif0"
      },
      "execution_count": 17,
      "outputs": []
    },
    {
      "cell_type": "code",
      "source": [
        "net.to(device)\n",
        "\n",
        "eval_64 = train_network(net, trainloader, max_epoch=10)"
      ],
      "metadata": {
        "id": "Ov344DQSECii"
      },
      "execution_count": null,
      "outputs": []
    },
    {
      "cell_type": "markdown",
      "metadata": {
        "id": "7NxA56l6Y3Eg"
      },
      "source": [
        "**Testing**\n",
        "\n",
        "---\n",
        "\n",
        "Functions modified from code in the PyTorch classification tutorial\n",
        "\n",
        "* https://pytorch.org/tutorials/beginner/blitz/cifar10_tutorial.html"
      ]
    },
    {
      "cell_type": "code",
      "source": [
        "evaluate_test(net)\n",
        "evaluate_train(net)"
      ],
      "metadata": {
        "colab": {
          "base_uri": "https://localhost:8080/"
        },
        "id": "PefYBtIQiCxf",
        "outputId": "77e28137-027c-4177-d56f-a0aeb38d7cf8"
      },
      "execution_count": 11,
      "outputs": [
        {
          "output_type": "stream",
          "name": "stdout",
          "text": [
            "Accuracy of the network on the 10000 test images: 76 %\n",
            "Accuracy of the network on the training images: 77 %\n"
          ]
        },
        {
          "output_type": "execute_result",
          "data": {
            "text/plain": [
              "0.7748"
            ]
          },
          "metadata": {},
          "execution_count": 11
        }
      ]
    },
    {
      "cell_type": "markdown",
      "source": [
        "**Visualisation**\n",
        "\n",
        "---"
      ],
      "metadata": {
        "id": "Twc246VecvbZ"
      }
    },
    {
      "cell_type": "code",
      "source": [
        "import matplotlib.pyplot as plt\n",
        "\n",
        "f, axs = plt.subplots(2,2)\n",
        "\n",
        "ax = axs[0,0]\n",
        "ax.plot(eval_64[\"epoch\"], eval_64[\"accuracy\"], label=\"batch_size = 64\")\n",
        "ax.set_ylabel(\"Accuracy\")\n",
        "ax.set_xlabel(\"Epoch\")\n",
        "\n",
        "ax = axs[0,1]\n",
        "ax.plot(eval_64[\"epoch\"], eval_64[\"loss\"], label=\"batch_size = 64\")\n",
        "ax.set_ylabel(\"Loss\")\n",
        "ax.set_xlabel(\"Epoch\")\n",
        "\n",
        "ax = axs[1,0]\n",
        "ax.plot(eval_64[\"epoch\"], eval_64[\"validation_accuracy\"], label=\"batch_size = 64\")\n",
        "ax.set_ylabel(\"Validation Accuracy\")\n",
        "ax.set_xlabel(\"Epoch\")\n",
        "\n",
        "ax = axs[1,1]\n",
        "ax.plot(eval_64[\"epoch\"], eval_64[\"loss\"], label=\"batch_size = 64\")\n",
        "ax.set_ylabel(\"Loss\")\n",
        "ax.set_xlabel(\"Epoch\")\n",
        "\n",
        "f.suptitle(\"Model Evaluation at 30 Epochs\")\n",
        "f.tight_layout()"
      ],
      "metadata": {
        "colab": {
          "base_uri": "https://localhost:8080/",
          "height": 492
        },
        "id": "LTu56Hmoct9Z",
        "outputId": "b42a81bb-b84f-4dd0-e117-d9b9a813dd28"
      },
      "execution_count": 15,
      "outputs": [
        {
          "output_type": "display_data",
          "data": {
            "text/plain": [
              "<Figure size 640x480 with 4 Axes>"
            ],
            "image/png": "[encoded data removed]"
          },
          "metadata": {}
        }
      ]
    },
    {
      "cell_type": "code",
      "source": [],
      "metadata": {
        "id": "TuNOwBfrjURX"
      },
      "execution_count": null,
      "outputs": []
    }
  ],
  "metadata": {
    "colab": {
      "provenance": [],
      "gpuType": "T4"
    },
    "kernelspec": {
      "display_name": "Python 3",
      "name": "python3"
    },
    "language_info": {
      "name": "python"
    },
    "accelerator": "GPU"
  },
  "nbformat": 4,
  "nbformat_minor": 0
}